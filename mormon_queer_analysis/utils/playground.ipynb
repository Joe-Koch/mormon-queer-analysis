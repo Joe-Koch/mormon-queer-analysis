{
 "cells": [
  {
   "cell_type": "markdown",
   "metadata": {},
   "source": [
    "This notebook is for interacting with dagster assets during development. It's easier to debug and play around with assets from a jupyter notebook, rather than creating a new dagster asset and having to run the code from the dagster UI. "
   ]
  },
  {
   "cell_type": "code",
   "execution_count": 7,
   "metadata": {},
   "outputs": [
    {
     "name": "stderr",
     "output_type": "stream",
     "text": [
      "No dagster instance configuration file (dagster.yaml) found at /Users/zoekoch/git/mormon-queer-analysis/dagster_home. Defaulting to loading and storing all metadata with /Users/zoekoch/git/mormon-queer-analysis/dagster_home. If this is the desired behavior, create an empty dagster.yaml file in /Users/zoekoch/git/mormon-queer-analysis/dagster_home.\n"
     ]
    },
    {
     "name": "stderr",
     "output_type": "stream",
     "text": [
      "2024-02-21 12:56:22 -0700 - dagster - DEBUG - system - Loading file from: data/k_means_clustering using PickledObjectFilesystemIOManager...\n"
     ]
    },
    {
     "data": {
      "text/html": [
       "<div>\n",
       "<style scoped>\n",
       "    .dataframe tbody tr th:only-of-type {\n",
       "        vertical-align: middle;\n",
       "    }\n",
       "\n",
       "    .dataframe tbody tr th {\n",
       "        vertical-align: top;\n",
       "    }\n",
       "\n",
       "    .dataframe thead th {\n",
       "        text-align: right;\n",
       "    }\n",
       "</style>\n",
       "<table border=\"1\" class=\"dataframe\">\n",
       "  <thead>\n",
       "    <tr style=\"text-align: right;\">\n",
       "      <th></th>\n",
       "      <th>date</th>\n",
       "      <th>score</th>\n",
       "      <th>name</th>\n",
       "      <th>text</th>\n",
       "      <th>n_tokens</th>\n",
       "      <th>embedding</th>\n",
       "      <th>cluster</th>\n",
       "    </tr>\n",
       "  </thead>\n",
       "  <tbody>\n",
       "    <tr>\n",
       "      <th>0</th>\n",
       "      <td>1456783420</td>\n",
       "      <td>23</td>\n",
       "      <td>t3_48ct1r</td>\n",
       "      <td>The reasons people state for leaving TSCC are ...</td>\n",
       "      <td>250.0</td>\n",
       "      <td>[0.002946410560980439, 0.0020436441991478205, ...</td>\n",
       "      <td>5</td>\n",
       "    </tr>\n",
       "    <tr>\n",
       "      <th>1</th>\n",
       "      <td>1456783127</td>\n",
       "      <td>23</td>\n",
       "      <td>t3_48crxa</td>\n",
       "      <td>Remember when the president of Iran denied the...</td>\n",
       "      <td>15.0</td>\n",
       "      <td>[-0.008156983181834221, -0.00918990932404995, ...</td>\n",
       "      <td>33</td>\n",
       "    </tr>\n",
       "    <tr>\n",
       "      <th>2</th>\n",
       "      <td>1456782570</td>\n",
       "      <td>17</td>\n",
       "      <td>t3_48cpm3</td>\n",
       "      <td>Finally telling my story.\\nHello, I just wante...</td>\n",
       "      <td>1054.0</td>\n",
       "      <td>[-0.005017566028982401, -0.008892294950783253,...</td>\n",
       "      <td>5</td>\n",
       "    </tr>\n",
       "    <tr>\n",
       "      <th>3</th>\n",
       "      <td>1456782555</td>\n",
       "      <td>187</td>\n",
       "      <td>t3_48cpkb</td>\n",
       "      <td>Bednar: ‘We are not bigots’ because ‘there are...</td>\n",
       "      <td>22.0</td>\n",
       "      <td>[-0.010631844401359558, 0.004095560405403376, ...</td>\n",
       "      <td>28</td>\n",
       "    </tr>\n",
       "    <tr>\n",
       "      <th>4</th>\n",
       "      <td>1456782037</td>\n",
       "      <td>5</td>\n",
       "      <td>t3_48cntf</td>\n",
       "      <td>My old girlfriend had a brother.\\nWell, she ha...</td>\n",
       "      <td>242.0</td>\n",
       "      <td>[-0.01124570146203041, -0.024312889203429222, ...</td>\n",
       "      <td>5</td>\n",
       "    </tr>\n",
       "  </tbody>\n",
       "</table>\n",
       "</div>"
      ],
      "text/plain": [
       "         date  score       name  \\\n",
       "0  1456783420     23  t3_48ct1r   \n",
       "1  1456783127     23  t3_48crxa   \n",
       "2  1456782570     17  t3_48cpm3   \n",
       "3  1456782555    187  t3_48cpkb   \n",
       "4  1456782037      5  t3_48cntf   \n",
       "\n",
       "                                                text  n_tokens  \\\n",
       "0  The reasons people state for leaving TSCC are ...     250.0   \n",
       "1  Remember when the president of Iran denied the...      15.0   \n",
       "2  Finally telling my story.\\nHello, I just wante...    1054.0   \n",
       "3  Bednar: ‘We are not bigots’ because ‘there are...      22.0   \n",
       "4  My old girlfriend had a brother.\\nWell, she ha...     242.0   \n",
       "\n",
       "                                           embedding  cluster  \n",
       "0  [0.002946410560980439, 0.0020436441991478205, ...        5  \n",
       "1  [-0.008156983181834221, -0.00918990932404995, ...       33  \n",
       "2  [-0.005017566028982401, -0.008892294950783253,...        5  \n",
       "3  [-0.010631844401359558, 0.004095560405403376, ...       28  \n",
       "4  [-0.01124570146203041, -0.024312889203429222, ...        5  "
      ]
     },
     "execution_count": 7,
     "metadata": {},
     "output_type": "execute_result"
    }
   ],
   "source": [
    "# Import the dagster definitions object \n",
    "from mormon_queer_analysis import defs\n",
    "\n",
    "# Load assets from their unique asset name\n",
    "df = defs.load_asset_value(\"k_means_clustering\")\n",
    "\n",
    "df.head()\n"
   ]
  },
  {
   "cell_type": "markdown",
   "metadata": {},
   "source": [
    "Try things out! "
   ]
  },
  {
   "cell_type": "code",
   "execution_count": null,
   "metadata": {},
   "outputs": [],
   "source": [
    "\n"
   ]
  }
 ],
 "metadata": {
  "kernelspec": {
   "display_name": "venv",
   "language": "python",
   "name": "python3"
  },
  "language_info": {
   "codemirror_mode": {
    "name": "ipython",
    "version": 3
   },
   "file_extension": ".py",
   "mimetype": "text/x-python",
   "name": "python",
   "nbconvert_exporter": "python",
   "pygments_lexer": "ipython3",
   "version": "3.9.6"
  }
 },
 "nbformat": 4,
 "nbformat_minor": 2
}
